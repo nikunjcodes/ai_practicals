{
 "cells": [
  {
   "cell_type": "code",
   "execution_count": 22,
   "metadata": {},
   "outputs": [],
   "source": [
    "goal = [\n",
    "    [1, 2, 3],\n",
    "    [4, 5, 6],\n",
    "    [7, 8, 0]\n",
    "]"
   ]
  },
  {
   "cell_type": "code",
   "execution_count": 21,
   "metadata": {},
   "outputs": [],
   "source": [
    "def find_empty(puzzle):\n",
    "    for i in range(3):\n",
    "        for j in range(3):\n",
    "            if puzzle[i][j] ==0:\n",
    "                return i,j\n",
    "    return None"
   ]
  },
  {
   "cell_type": "code",
   "execution_count": 27,
   "metadata": {},
   "outputs": [],
   "source": [
    "def distance_from_goal(puzzle, goal):\n",
    "    goal_positions = {}\n",
    "    for i in range(3):\n",
    "        for j in range(3):\n",
    "            goal_positions[goal[i][j]] = (i, j)\n",
    "    \n",
    "    distance = 0\n",
    "    for i in range(3):\n",
    "        for j in range(3):\n",
    "            if puzzle[i][j] != 0:\n",
    "                goal_i, goal_j = goal_positions[puzzle[i][j]]\n",
    "                distance += abs(goal_i - i) + abs(goal_j - j)\n",
    "    return distance"
   ]
  },
  {
   "cell_type": "code",
   "execution_count": 28,
   "metadata": {},
   "outputs": [],
   "source": [
    "def get_neighbours(puzzle):\n",
    "    neighbours = []\n",
    "    x, y = find_empty(puzzle)\n",
    "    moves = [(0, 1), (0, -1), (1, 0), (-1, 0)]\n",
    "    for i, j in moves:\n",
    "        if 0 <= x + i < 3 and 0 <= y + j < 3:\n",
    "            new_puzzle = [row[:] for row in puzzle]\n",
    "            new_puzzle[x][y] = new_puzzle[x + i][y + j]\n",
    "            new_puzzle[x + i][y + j] = 0\n",
    "            neighbours.append(new_puzzle)\n",
    "    return neighbours"
   ]
  },
  {
   "cell_type": "code",
   "execution_count": 29,
   "metadata": {},
   "outputs": [],
   "source": [
    "import heapq\n",
    "def Astar(puzzle):\n",
    "    priority_queue = []\n",
    "    g = 0\n",
    "    h = distance_from_goal(puzzle, goal)\n",
    "    f = g + h\n",
    "    heapq.heappush(priority_queue, (f, g, h, puzzle, []))\n",
    "    visited = set()\n",
    "    while priority_queue:\n",
    "        f, g, h, puzzle, path = heapq.heappop(priority_queue)\n",
    "        if puzzle == goal:\n",
    "            return path + [puzzle]\n",
    "        visited.add(tuple(map(tuple, puzzle)))\n",
    "        for neighbour in get_neighbours(puzzle):\n",
    "            if tuple(map(tuple, neighbour)) not in visited:\n",
    "                new_path = path + [puzzle]\n",
    "                h = distance_from_goal(neighbour, goal)\n",
    "                g_new = g + 1\n",
    "                f_new = g_new + h\n",
    "                heapq.heappush(priority_queue, (f_new, g_new, h, neighbour, new_path))\n",
    "    return None"
   ]
  },
  {
   "cell_type": "code",
   "execution_count": 30,
   "metadata": {},
   "outputs": [],
   "source": [
    "def print_puzzle(puzzle):\n",
    "    for row in puzzle:\n",
    "        print(' '.join(str(x) if x != 0 else ' ' for x in row))\n",
    "    print()"
   ]
  },
  {
   "cell_type": "code",
   "execution_count": 31,
   "metadata": {},
   "outputs": [
    {
     "name": "stdout",
     "output_type": "stream",
     "text": [
      "Solution found in 2 steps:\n",
      "Step 0:\n",
      "1 2 3\n",
      "4   6\n",
      "7 5 8\n",
      "\n",
      "Step 1:\n",
      "1 2 3\n",
      "4 5 6\n",
      "7   8\n",
      "\n",
      "Step 2:\n",
      "1 2 3\n",
      "4 5 6\n",
      "7 8  \n",
      "\n"
     ]
    }
   ],
   "source": [
    "solution = Astar(initial_state)\n",
    "\n",
    "if solution:\n",
    "    print(\"Solution found in\", len(solution) - 1, \"steps:\")\n",
    "    for i, step in enumerate(solution):\n",
    "        print(f\"Step {i}:\")\n",
    "        print_puzzle(step)\n",
    "else:\n",
    "    print(\"No solution found.\")"
   ]
  },
  {
   "cell_type": "code",
   "execution_count": null,
   "metadata": {},
   "outputs": [],
   "source": []
  }
 ],
 "metadata": {
  "kernelspec": {
   "display_name": "Python 3 (ipykernel)",
   "language": "python",
   "name": "python3"
  },
  "language_info": {
   "codemirror_mode": {
    "name": "ipython",
    "version": 3
   },
   "file_extension": ".py",
   "mimetype": "text/x-python",
   "name": "python",
   "nbconvert_exporter": "python",
   "pygments_lexer": "ipython3",
   "version": "3.11.5"
  }
 },
 "nbformat": 4,
 "nbformat_minor": 2
}
