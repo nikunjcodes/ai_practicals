{
 "cells": [
  {
   "cell_type": "markdown",
   "id": "2c27b5f9",
   "metadata": {},
   "source": [
    "### Name: Nikunj Jakhotiya\n",
    "### Batch:A3\n",
    "### Roll : 48\n",
    "### Practical 2"
   ]
  },
  {
   "cell_type": "markdown",
   "id": "b392ef4d",
   "metadata": {},
   "source": [
    "## The solution of Water Jug Problem using the BFS technique"
   ]
  },
  {
   "cell_type": "code",
   "execution_count": 2,
   "id": "63cf9add",
   "metadata": {},
   "outputs": [
    {
     "name": "stdout",
     "output_type": "stream",
     "text": [
      "[(0, 0), (0, 3), (3, 0), (3, 3), (4, 2), (0, 2, 2, 0)]\n",
      "The solution path is :\n",
      "Jug A: 0, Jug B: 0\n",
      "Jug A: 0, Jug B: 3\n",
      "Jug A: 3, Jug B: 0\n",
      "Jug A: 3, Jug B: 3\n",
      "Jug A: 4, Jug B: 2\n",
      "Jug A: 0, Jug B: 2\n",
      "Goal reached\n"
     ]
    }
   ],
   "source": [
    "from collections import deque\n",
    "\n",
    "# Function to fill jug A to its capacity\n",
    "def fill_A(state):\n",
    "    a, b, cap_a, cap_b = state\n",
    "    return (cap_a, b, cap_a, cap_b)\n",
    "\n",
    "# Function to fill jug B to its capacity\n",
    "def fill_B(state):\n",
    "    a, b, cap_a, cap_b = state\n",
    "    return (a, cap_b, cap_a, cap_b)\n",
    "\n",
    "# Function to empty jug A\n",
    "def empty_A(state):\n",
    "    a, b, cap_a, cap_b = state\n",
    "    return (0, b, cap_a, cap_b)\n",
    "\n",
    "# Function to empty jug B\n",
    "def empty_B(state):\n",
    "    a, b, cap_a, cap_b = state\n",
    "    return (a, 0, cap_a, cap_b)\n",
    "\n",
    "# Function to pour water from jug A to jug B\n",
    "def pour_A_to_B(state):\n",
    "    a, b, cap_a, cap_b = state\n",
    "    transfer = min(a, cap_b - b)  # Calculate how much can be transferred\n",
    "    return (a - transfer, b + transfer, cap_a, cap_b)\n",
    "\n",
    "# Function to pour water from jug B to jug A\n",
    "def pour_B_to_A(state):\n",
    "    a, b, cap_a, cap_b = state\n",
    "    transfer = min(b, cap_a - a)  # Calculate how much can be transferred\n",
    "    return (a + transfer, b - transfer, cap_a, cap_b)\n",
    "\n",
    "# Breadth-first search (BFS) to find the solution path\n",
    "def bfs_solver(start, goal):\n",
    "    cap_a, cap_b = start[2], start[3]  # Jug capacities\n",
    "    queue = deque([(start, [])])  # Queue for BFS, initialized with the start state\n",
    "    visited = set()  # Set to track visited states\n",
    "    visited.add(start)\n",
    "    \n",
    "    while queue:\n",
    "        (a, b, cap_a, cap_b), path = queue.popleft()\n",
    "        \n",
    "        # Check if we have reached the goal\n",
    "        if a == goal or b == goal:\n",
    "            # Create the final state if goal is reached\n",
    "            if a == goal:\n",
    "                next_state = empty_B((a, b, cap_a, cap_b))\n",
    "                next_state1=[]\n",
    "            else:\n",
    "                next_state = empty_A((a, b, cap_a, cap_b))\n",
    "                next_state1 = pour_B_to_A(next_state)\n",
    "            return path + [(a, b)] + [next_state[:2] + next_state1[:2]]\n",
    "\n",
    "        # Generate possible next states\n",
    "        next_states = [\n",
    "            fill_A((a, b, cap_a, cap_b)),\n",
    "            fill_B((a, b, cap_a, cap_b)),\n",
    "            empty_A((a, b, cap_a, cap_b)),\n",
    "            empty_B((a, b, cap_a, cap_b)),\n",
    "            pour_A_to_B((a, b, cap_a, cap_b)),\n",
    "            pour_B_to_A((a, b, cap_a, cap_b))\n",
    "        ]\n",
    "        \n",
    "        # Add new states to the queue if they haven't been visited\n",
    "        for state in next_states:\n",
    "            if state not in visited:\n",
    "                visited.add(state)\n",
    "                queue.append((state, path + [(a, b)]))\n",
    "    \n",
    "    return []\n",
    "\n",
    "# Define the start state and goal\n",
    "start = (0, 0, 4, 3)  # Initial state: (jug A amount, jug B amount, capacity of A, capacity of B)\n",
    "goal = 2  # The target amount of water we want in either jug\n",
    "\n",
    "# Find the solution path\n",
    "solution_path = bfs_solver(start, goal)\n",
    "print(solution_path)\n",
    "# Print the solution path\n",
    "print(\"The solution path is :\")\n",
    "for step in solution_path:\n",
    "    print(f\"Jug A: {step[0]}, Jug B: {step[1]}\")\n",
    "print(\"Goal reached\")\n"
   ]
  },
  {
   "cell_type": "code",
   "execution_count": null,
   "id": "2e8aa105",
   "metadata": {},
   "outputs": [],
   "source": []
  }
 ],
 "metadata": {
  "kernelspec": {
   "display_name": "Python 3 (ipykernel)",
   "language": "python",
   "name": "python3"
  },
  "language_info": {
   "codemirror_mode": {
    "name": "ipython",
    "version": 3
   },
   "file_extension": ".py",
   "mimetype": "text/x-python",
   "name": "python",
   "nbconvert_exporter": "python",
   "pygments_lexer": "ipython3",
   "version": "3.11.5"
  }
 },
 "nbformat": 4,
 "nbformat_minor": 5
}
