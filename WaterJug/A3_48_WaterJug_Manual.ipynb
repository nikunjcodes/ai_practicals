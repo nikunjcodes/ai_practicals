{
 "cells": [
  {
   "cell_type": "markdown",
   "id": "25726370",
   "metadata": {},
   "source": [
    "### Name: Nikunj Jakhotiya\n",
    "### Batch:A3\n",
    "### Roll : 48\n",
    "### Practical 2"
   ]
  },
  {
   "cell_type": "markdown",
   "id": "6f00fbc1",
   "metadata": {},
   "source": [
    "## The solution of Water Jug Problem using the Manual entry technique"
   ]
  },
  {
   "cell_type": "code",
   "execution_count": 3,
   "id": "736438e0",
   "metadata": {},
   "outputs": [
    {
     "name": "stdout",
     "output_type": "stream",
     "text": [
      "\n",
      "Jug A has: 0 L of water and Jug B has: 0 L of water\n",
      "\n",
      "Filling Jug B...\n",
      "\n",
      "Jug A has: 0 L of water and Jug B has: 3 L of water\n",
      "\n",
      "Emptying Jug B into Jug A...\n",
      "\n",
      "Jug A has: 3 L of water and Jug B has: 0 L of water\n",
      "\n",
      "Filling Jug B...\n",
      "\n",
      "Jug A has: 3 L of water and Jug B has: 3 L of water\n",
      "\n",
      "Emptying Jug B into Jug A...\n",
      "\n",
      "Jug A has: 4 L of water and Jug B has: 2 L of water\n",
      "\n",
      "Emptying Jug A...\n",
      "\n",
      "Jug A has: 0 L of water and Jug B has: 2 L of water\n",
      "\n",
      "Emptying Jug B into Jug A...\n",
      "\n",
      "Jug A has: 2 L of water and Jug B has: 0 L of water\n"
     ]
    }
   ],
   "source": [
    "# Function to fill Jug A to its capacity\n",
    "def fill_jug_a(capacity_a):\n",
    "    print()\n",
    "    print(\"Filling Jug A...\")\n",
    "    return capacity_a\n",
    "\n",
    "# Function to empty Jug A\n",
    "def empty_jug_a():\n",
    "    print()\n",
    "    print(\"Emptying Jug A...\")\n",
    "    return 0\n",
    "\n",
    "# Function to fill Jug B to its capacity\n",
    "def fill_jug_b(capacity_b):\n",
    "    print()\n",
    "    print(\"Filling Jug B...\")\n",
    "    return capacity_b\n",
    "\n",
    "# Function to empty Jug B into Jug A\n",
    "def empty_b_to_a(jug_a, jug_b, capacity_a):\n",
    "    print()\n",
    "    print(\"Emptying Jug B into Jug A...\")\n",
    "    transfer_amount = min(jug_b, capacity_a - jug_a)\n",
    "    jug_a += transfer_amount\n",
    "    jug_b -= transfer_amount\n",
    "    return jug_a, jug_b\n",
    "\n",
    "# Function to empty Jug A into Jug B\n",
    "def empty_a_to_b(jug_a, jug_b, capacity_b):\n",
    "    print()\n",
    "    print(\"Emptying Jug A into Jug B...\")\n",
    "    transfer_amount = min(jug_a, capacity_b - jug_b)\n",
    "    jug_a -= transfer_amount\n",
    "    jug_b += transfer_amount\n",
    "    return jug_a, jug_b\n",
    "\n",
    "# Function to display the current state of both jugs\n",
    "def display_jugs(jug_a, jug_b):\n",
    "    print()\n",
    "    print(f\"Jug A has: {jug_a} L of water and Jug B has: {jug_b} L of water\")\n",
    "\n",
    "# Initial capacities and states of the jugs\n",
    "capacity_a = 4\n",
    "capacity_b = 3\n",
    "target = 2  # Target volume to achieve in Jug B\n",
    "jug_a = 0\n",
    "jug_b = 0\n",
    "\n",
    "# Display initial state\n",
    "display_jugs(jug_a, jug_b)\n",
    "\n",
    "# Step-by-step process to achieve the target volume\n",
    "jug_b = fill_jug_b(capacity_b)\n",
    "display_jugs(jug_a, jug_b)\n",
    "\n",
    "jug_a, jug_b = empty_b_to_a(jug_a, jug_b, capacity_a)\n",
    "display_jugs(jug_a, jug_b)\n",
    "\n",
    "jug_b = fill_jug_b(capacity_b)\n",
    "display_jugs(jug_a, jug_b)\n",
    "\n",
    "jug_a, jug_b = empty_b_to_a(jug_a, jug_b, capacity_a)\n",
    "display_jugs(jug_a, jug_b)\n",
    "\n",
    "jug_a = empty_jug_a()\n",
    "display_jugs(jug_a, jug_b)\n",
    "\n",
    "jug_a, jug_b = empty_b_to_a(jug_a, jug_b, capacity_a)\n",
    "display_jugs(jug_a, jug_b)\n"
   ]
  },
  {
   "cell_type": "code",
   "execution_count": null,
   "id": "a006e761",
   "metadata": {},
   "outputs": [],
   "source": []
  },
  {
   "cell_type": "code",
   "execution_count": null,
   "id": "7739a108",
   "metadata": {},
   "outputs": [],
   "source": []
  }
 ],
 "metadata": {
  "kernelspec": {
   "display_name": "Python 3 (ipykernel)",
   "language": "python",
   "name": "python3"
  },
  "language_info": {
   "codemirror_mode": {
    "name": "ipython",
    "version": 3
   },
   "file_extension": ".py",
   "mimetype": "text/x-python",
   "name": "python",
   "nbconvert_exporter": "python",
   "pygments_lexer": "ipython3",
   "version": "3.11.5"
  }
 },
 "nbformat": 4,
 "nbformat_minor": 5
}
